{
 "cells": [
  {
   "cell_type": "markdown",
   "metadata": {},
   "source": [
    "# 3 Начало работы с нейронными сетями"
   ]
  },
  {
   "cell_type": "markdown",
   "metadata": {},
   "source": [
    "## 3.4 Классификация отзывов к фильмам (пример бинарной классификации)"
   ]
  },
  {
   "cell_type": "code",
   "execution_count": 1,
   "metadata": {},
   "outputs": [
    {
     "name": "stderr",
     "output_type": "stream",
     "text": [
      "Using TensorFlow backend.\n"
     ]
    }
   ],
   "source": [
    "from keras.datasets import imdb\n",
    "\n",
    "(train_data, train_labels), (test_data, test_labels) = imdb.load_data(num_words=10000)"
   ]
  },
  {
   "cell_type": "code",
   "execution_count": 2,
   "metadata": {},
   "outputs": [
    {
     "name": "stdout",
     "output_type": "stream",
     "text": [
      "[1, 14, 22, 16, 43, 530, 973, 1622, 1385, 65, 458, 4468, 66, 3941, 4, 173, 36, 256, 5, 25, 100, 43, 838, 112, 50, 670, 2, 9, 35, 480, 284, 5, 150, 4, 172, 112, 167, 2, 336, 385, 39, 4, 172, 4536, 1111, 17, 546, 38, 13, 447, 4, 192, 50, 16, 6, 147, 2025, 19, 14, 22, 4, 1920, 4613, 469, 4, 22, 71, 87, 12, 16, 43, 530, 38, 76, 15, 13, 1247, 4, 22, 17, 515, 17, 12, 16, 626, 18, 2, 5, 62, 386, 12, 8, 316, 8, 106, 5, 4, 2223, 5244, 16, 480, 66, 3785, 33, 4, 130, 12, 16, 38, 619, 5, 25, 124, 51, 36, 135, 48, 25, 1415, 33, 6, 22, 12, 215, 28, 77, 52, 5, 14, 407, 16, 82, 2, 8, 4, 107, 117, 5952, 15, 256, 4, 2, 7, 3766, 5, 723, 36, 71, 43, 530, 476, 26, 400, 317, 46, 7, 4, 2, 1029, 13, 104, 88, 4, 381, 15, 297, 98, 32, 2071, 56, 26, 141, 6, 194, 7486, 18, 4, 226, 22, 21, 134, 476, 26, 480, 5, 144, 30, 5535, 18, 51, 36, 28, 224, 92, 25, 104, 4, 226, 65, 16, 38, 1334, 88, 12, 16, 283, 5, 16, 4472, 113, 103, 32, 15, 16, 5345, 19, 178, 32]\n",
      "1\n"
     ]
    }
   ],
   "source": [
    "print(train_data[0])\n",
    "print(train_labels[0])"
   ]
  },
  {
   "cell_type": "code",
   "execution_count": 3,
   "metadata": {},
   "outputs": [],
   "source": [
    "word_index = imdb.get_word_index()\n",
    "reverse_word_index = dict(\n",
    "    [(value, key) for (key, value) in word_index.items()])\n",
    "decoded_review = ' '.join([reverse_word_index.get(i-3, '?') for i in train_data[42]])"
   ]
  },
  {
   "cell_type": "code",
   "execution_count": 4,
   "metadata": {},
   "outputs": [
    {
     "data": {
      "text/plain": [
       "\"? warning this review contains spoilers do not read if you don't want some points revealed to you before you watch the film br br with a cast like this you wonder whether or not the actors and actresses knew exactly what they were getting into did they see the script and say hey close encounters of the third kind was such a hit that this one can't fail ' unfortunately it does did they even think to check on the director's ? i mean would you do a movie with the director of a movie called ? ? ' ? clark who would later go on to direct the infamous final justice ' made this it makes you wonder how the people of mystery science theater 3000 could hammer final ? and completely miss out on the return ' br br the film is set in a small town in new mexico a little boy and girl are in the street ? one night when a powerful ? ? er a spaceship appears and ? over them in probably the worst special effect sequence of the film the ship ? some kind of red ? on them it looked like clark had held a ? of water in from of the camera lens and ? his ? pen in it so right away you are treated with cheese anyhow the ship leaves and the adults don't believe the children elsewhere we see vincent ? whom i find to be a terrific actor watch his scenes in ? for proof as they are outstanding who is playing a ? or as i called him the ? ? he steps out of the cave he is in and he and his dog are ? by the ship twenty five years go by and the girl has grown up to be ? shepherd who works with her father raymond ? in studying unusual weather ? or something like that shepherd spots some strange ? in satellite pictures over that little new mexico town and she travels there to research it once she gets there the local ? ? her and blame her for the recent slew of cattle ? that have been going on and deputy jan michael vincent comes to her rescue from this point on the film really drags as the two quickly fall for each other especially after vincent ? off the locals and informs shepherd that he was the little boy that saw the ship with her twenty five years earlier while this boring mess is happening vincent ? with his killer dog at his side is walking around killing the cattle and any people he runs into with an unusual item you know those glowing plastic sticks stores sell for trick or ? at halloween the kind that you shake to make them glow ? uses what looks like one of those glow sticks to burn ? in people it's the second worst effect in the movie every time ? is on screen with the glow stick the ? atmosphere suddenly turns dark like the filmmakers thought the glow stick needed that ? it ends up making the movie look even cheaper than it is br br and what does all this lead up to it's hard to tell when the final confusing scene arrives see ? and his team of scientists try to explain the satellite images that shepherd found as some kind of calling card ' but none of it makes sense why do shepherd and vincent age and ? does not ? explains why he is killing cattle and people and why he wants shepherd dead but even that doesn't make much sense when you really think about it i mean why doesn't he kill jan michael vincent after all he had twenty five years to do it and the aliens won't need him if shepherd is dead anyhow so why try to kill her speaking of the aliens it is never clear what they really wanted out of shepherd and vincent what is their goal why do they wait so long to ? how could they be so sure shepherd would come back not that the answer to any of these and other questions would have made the ? any more pleasant you would still have bad lines really bad acting particularly by shepherd cheesy effects and poor direction luckily the stars escaped from this movie ? shepherd soon went on to star in ? with bruce willis jan michael vincent went on to be featured in dozens of b movies often in over the top parts raymond ? made a pile of perry mason television movies right up until his death vincent ? went on to be a great character actor in a huge number of films martin ? who played a ? law ? officer quickly made the terrific alone in the ? and the awful the ? before rolling into the films he has been famous for recently you can bet none of these stars ever want their careers to return to the return ' ? score 2 out of 10\""
      ]
     },
     "execution_count": 4,
     "metadata": {},
     "output_type": "execute_result"
    }
   ],
   "source": [
    "decoded_review"
   ]
  },
  {
   "cell_type": "code",
   "execution_count": 5,
   "metadata": {},
   "outputs": [],
   "source": [
    "import numpy as np\n",
    "\n",
    "def vectorize_sequences(sequences, dimension=10000):\n",
    "    results = np.zeros((len(sequences), dimension))\n",
    "    for i, sequence in enumerate(sequences):\n",
    "        results[i, sequence] = 1.\n",
    "    return results\n",
    "\n",
    "x_train = vectorize_sequences(train_data)\n",
    "x_test = vectorize_sequences(test_data)"
   ]
  },
  {
   "cell_type": "code",
   "execution_count": 6,
   "metadata": {},
   "outputs": [
    {
     "data": {
      "text/plain": [
       "array([0., 1., 1., ..., 0., 0., 0.])"
      ]
     },
     "execution_count": 6,
     "metadata": {},
     "output_type": "execute_result"
    }
   ],
   "source": [
    "x_train[0]"
   ]
  },
  {
   "cell_type": "code",
   "execution_count": 7,
   "metadata": {},
   "outputs": [],
   "source": [
    "y_train = np.asarray(train_labels).astype('float32')\n",
    "y_test = np.asarray(test_labels).astype('float32')"
   ]
  },
  {
   "cell_type": "code",
   "execution_count": 134,
   "metadata": {},
   "outputs": [],
   "source": [
    "from keras import models\n",
    "from keras import layers\n",
    "\n",
    "model = models.Sequential()\n",
    "model.add(layers.Dense(16, activation='relu', input_shape=(10000,)))\n",
    "model.add(layers.Dense(16, activation='relu'))\n",
    "model.add(layers.Dense(1, activation='sigmoid'))"
   ]
  },
  {
   "cell_type": "code",
   "execution_count": 135,
   "metadata": {},
   "outputs": [],
   "source": [
    "model.compile(optimizer='rmsprop',\n",
    "             loss='binary_crossentropy',\n",
    "             metrics=['accuracy'])"
   ]
  },
  {
   "cell_type": "code",
   "execution_count": 136,
   "metadata": {},
   "outputs": [],
   "source": [
    "x_val = x_train[:10000]\n",
    "partial_x_train = x_train[10000:]\n",
    "\n",
    "y_val = y_train[:10000]\n",
    "partial_y_train = y_train[10000:]"
   ]
  },
  {
   "cell_type": "code",
   "execution_count": 137,
   "metadata": {},
   "outputs": [
    {
     "name": "stdout",
     "output_type": "stream",
     "text": [
      "Train on 15000 samples, validate on 10000 samples\n",
      "Epoch 1/20\n",
      "15000/15000 [==============================] - 2s 107us/step - loss: 0.5251 - accuracy: 0.7736 - val_loss: 0.3933 - val_accuracy: 0.8612\n",
      "Epoch 2/20\n",
      "15000/15000 [==============================] - 1s 82us/step - loss: 0.3076 - accuracy: 0.9067 - val_loss: 0.3117 - val_accuracy: 0.8832\n",
      "Epoch 3/20\n",
      "15000/15000 [==============================] - 1s 75us/step - loss: 0.2221 - accuracy: 0.9281 - val_loss: 0.2794 - val_accuracy: 0.8913\n",
      "Epoch 4/20\n",
      "15000/15000 [==============================] - 1s 72us/step - loss: 0.1745 - accuracy: 0.9439 - val_loss: 0.3056 - val_accuracy: 0.8770\n",
      "Epoch 5/20\n",
      "15000/15000 [==============================] - 1s 80us/step - loss: 0.1432 - accuracy: 0.9541 - val_loss: 0.2866 - val_accuracy: 0.8855\n",
      "Epoch 6/20\n",
      "15000/15000 [==============================] - 1s 72us/step - loss: 0.1135 - accuracy: 0.9668 - val_loss: 0.3482 - val_accuracy: 0.8684\n",
      "Epoch 7/20\n",
      "15000/15000 [==============================] - 1s 89us/step - loss: 0.0931 - accuracy: 0.9739 - val_loss: 0.3295 - val_accuracy: 0.8785\n",
      "Epoch 8/20\n",
      "15000/15000 [==============================] - 1s 77us/step - loss: 0.0781 - accuracy: 0.9794 - val_loss: 0.4028 - val_accuracy: 0.8653\n",
      "Epoch 9/20\n",
      "15000/15000 [==============================] - 1s 70us/step - loss: 0.0589 - accuracy: 0.9864 - val_loss: 0.3583 - val_accuracy: 0.8764\n",
      "Epoch 10/20\n",
      "15000/15000 [==============================] - 1s 84us/step - loss: 0.0500 - accuracy: 0.9891 - val_loss: 0.4146 - val_accuracy: 0.8665\n",
      "Epoch 11/20\n",
      "15000/15000 [==============================] - 1s 76us/step - loss: 0.0363 - accuracy: 0.9936 - val_loss: 0.4232 - val_accuracy: 0.8749\n",
      "Epoch 12/20\n",
      "15000/15000 [==============================] - 1s 79us/step - loss: 0.0293 - accuracy: 0.9948 - val_loss: 0.4358 - val_accuracy: 0.8729\n",
      "Epoch 13/20\n",
      "15000/15000 [==============================] - 1s 76us/step - loss: 0.0249 - accuracy: 0.9951 - val_loss: 0.4640 - val_accuracy: 0.8745\n",
      "Epoch 14/20\n",
      "15000/15000 [==============================] - 1s 91us/step - loss: 0.0136 - accuracy: 0.9986 - val_loss: 0.4935 - val_accuracy: 0.8698\n",
      "Epoch 15/20\n",
      "15000/15000 [==============================] - 2s 107us/step - loss: 0.0137 - accuracy: 0.9982 - val_loss: 0.5218 - val_accuracy: 0.8721\n",
      "Epoch 16/20\n",
      "15000/15000 [==============================] - 1s 92us/step - loss: 0.0088 - accuracy: 0.9988 - val_loss: 0.5946 - val_accuracy: 0.8607\n",
      "Epoch 17/20\n",
      "15000/15000 [==============================] - 1s 85us/step - loss: 0.0055 - accuracy: 0.9998 - val_loss: 0.5887 - val_accuracy: 0.8715\n",
      "Epoch 18/20\n",
      "15000/15000 [==============================] - 2s 116us/step - loss: 0.0075 - accuracy: 0.9985 - val_loss: 0.6098 - val_accuracy: 0.8721\n",
      "Epoch 19/20\n",
      "15000/15000 [==============================] - 1s 97us/step - loss: 0.0028 - accuracy: 0.9999 - val_loss: 0.6485 - val_accuracy: 0.8701\n",
      "Epoch 20/20\n",
      "15000/15000 [==============================] - 1s 74us/step - loss: 0.0073 - accuracy: 0.9982 - val_loss: 0.6769 - val_accuracy: 0.8697\n"
     ]
    }
   ],
   "source": [
    "history = model.fit(partial_x_train,\n",
    "                   partial_y_train,\n",
    "                   epochs=20,\n",
    "                   batch_size=512,\n",
    "                   validation_data=(x_val, y_val))"
   ]
  },
  {
   "cell_type": "code",
   "execution_count": 138,
   "metadata": {},
   "outputs": [
    {
     "data": {
      "text/plain": [
       "dict_keys(['val_loss', 'val_accuracy', 'loss', 'accuracy'])"
      ]
     },
     "execution_count": 138,
     "metadata": {},
     "output_type": "execute_result"
    }
   ],
   "source": [
    "history_dict = history.history\n",
    "history_dict.keys()"
   ]
  },
  {
   "cell_type": "code",
   "execution_count": 139,
   "metadata": {},
   "outputs": [
    {
     "data": {
      "image/png": "[encoded data removed]",
      "text/plain": [
       "<Figure size 432x288 with 1 Axes>"
      ]
     },
     "metadata": {
      "needs_background": "light"
     },
     "output_type": "display_data"
    }
   ],
   "source": [
    "import matplotlib.pyplot as plt\n",
    "\n",
    "loss_values = history_dict['loss']\n",
    "val_loss_values = history_dict['val_loss']\n",
    "\n",
    "epochs = range(1, len(history_dict['accuracy']) + 1)\n",
    "\n",
    "plt.plot(epochs, loss_values, 'bo', label='Training loss')\n",
    "plt.plot(epochs, val_loss_values, 'b', label='Validation loss')\n",
    "plt.title('Training and validation loss')\n",
    "plt.xlabel('Epochs')\n",
    "plt.ylabel('Loss')\n",
    "plt.legend()\n",
    "\n",
    "plt.show()"
   ]
  },
  {
   "cell_type": "code",
   "execution_count": 140,
   "metadata": {},
   "outputs": [
    {
     "data": {
      "image/png": "[encoded data removed]",
      "text/plain": [
       "<Figure size 432x288 with 1 Axes>"
      ]
     },
     "metadata": {
      "needs_background": "light"
     },
     "output_type": "display_data"
    }
   ],
   "source": [
    "plt.clf()\n",
    "acc_values = history_dict['accuracy']\n",
    "val_acc_values = history_dict['val_accuracy']\n",
    "\n",
    "plt.plot(epochs, acc_values, 'bo', label='Training accuracy')\n",
    "plt.plot(epochs, val_acc_values, 'b', label='Validation accuracy')\n",
    "plt.title('Training and validation accuracy')\n",
    "plt.xlabel('Epochs')\n",
    "plt.ylabel('Accuracy')\n",
    "plt.legend()\n",
    "\n",
    "plt.show()"
   ]
  },
  {
   "cell_type": "markdown",
   "metadata": {},
   "source": [
    "## Результат - оптимальное количество эпох = 3-4"
   ]
  },
  {
   "cell_type": "code",
   "execution_count": 145,
   "metadata": {},
   "outputs": [
    {
     "name": "stdout",
     "output_type": "stream",
     "text": [
      "Epoch 1/4\n",
      "25000/25000 [==============================] - 1s 57us/step - loss: 0.0294 - accuracy: 0.9926\n",
      "Epoch 2/4\n",
      "25000/25000 [==============================] - 1s 54us/step - loss: 0.0209 - accuracy: 0.9954\n",
      "Epoch 3/4\n",
      "25000/25000 [==============================] - 2s 61us/step - loss: 0.0148 - accuracy: 0.9966\n",
      "Epoch 4/4\n",
      "25000/25000 [==============================] - 1s 56us/step - loss: 0.0100 - accuracy: 0.9981\n",
      "25000/25000 [==============================] - 2s 65us/step\n"
     ]
    }
   ],
   "source": [
    "model.fit(x_train, y_train, epochs=4, batch_size=512)\n",
    "results = model.evaluate(x_test, y_test)"
   ]
  },
  {
   "cell_type": "code",
   "execution_count": 146,
   "metadata": {},
   "outputs": [
    {
     "data": {
      "text/plain": [
       "[0.8045659324216843, 0.8557199835777283]"
      ]
     },
     "execution_count": 146,
     "metadata": {},
     "output_type": "execute_result"
    }
   ],
   "source": [
    "results"
   ]
  },
  {
   "cell_type": "markdown",
   "metadata": {},
   "source": [
    "### Пример предсказаний на обученной NN"
   ]
  },
  {
   "cell_type": "code",
   "execution_count": 32,
   "metadata": {},
   "outputs": [
    {
     "name": "stdout",
     "output_type": "stream",
     "text": [
      "bad\n",
      "bad\n",
      "good\n",
      "bad\n",
      "bad\n",
      "good\n",
      "bad\n",
      "good\n",
      "bad\n",
      "good\n",
      "bad\n",
      "bad\n",
      "bad\n",
      "bad\n",
      "bad\n",
      "good\n",
      "good\n",
      "bad\n",
      "good\n",
      "bad\n",
      "bad\n",
      "bad\n",
      "bad\n",
      "good\n",
      "good\n",
      "good\n",
      "bad\n",
      "good\n",
      "bad\n",
      "bad\n",
      "good\n",
      "good\n",
      "good\n",
      "bad\n",
      "bad\n",
      "bad\n",
      "good\n",
      "bad\n",
      "bad\n",
      "good\n",
      "bad\n",
      "bad\n"
     ]
    }
   ],
   "source": [
    "first_42 = model.predict(x_train[1:43])\n",
    "print(*('good' if i > 0.5 else 'bad' for i in first_42), sep='\\n')"
   ]
  },
  {
   "cell_type": "markdown",
   "metadata": {},
   "source": [
    "## 3.5 Классификация новостных лент: пример классификации в несколько классов"
   ]
  },
  {
   "cell_type": "code",
   "execution_count": 2,
   "metadata": {},
   "outputs": [
    {
     "name": "stderr",
     "output_type": "stream",
     "text": [
      "Using TensorFlow backend.\n"
     ]
    }
   ],
   "source": [
    "\n",
    "from keras.datasets import reuters\n",
    "\n",
    "(train_data, train_labels), (test_data, test_labels) = reuters.load_data(num_words=10000)"
   ]
  },
  {
   "cell_type": "code",
   "execution_count": 8,
   "metadata": {},
   "outputs": [
    {
     "name": "stdout",
     "output_type": "stream",
     "text": [
      "? dart group corp said it offered to buy supermarkets general corp for 41 75 dlrs per share in cash earlier supermarkets general said an unsolicited third party had made the offer analysts estimated the value at about 1 6 billion dlrs based on 38 5 mln shares outstanding kidder peabody and co inc told dart that ? affiliate will be prepared to advance up to 750 mln dlrs on a subordinated basis 3\n"
     ]
    }
   ],
   "source": [
    "word_index = reuters.get_word_index()\n",
    "reverse_word_index = dict([(value, key) for (key, value) in word_index.items()])\n",
    "decoded_newswire = ' '.join([reverse_word_index.get(i - 3, '?') for i in train_data[412]])\n",
    "print(decoded_newswire)"
   ]
  },
  {
   "cell_type": "code",
   "execution_count": 9,
   "metadata": {},
   "outputs": [
    {
     "data": {
      "text/plain": [
       "3"
      ]
     },
     "execution_count": 9,
     "metadata": {},
     "output_type": "execute_result"
    }
   ],
   "source": [
    "train_labels[10]"
   ]
  },
  {
   "cell_type": "code",
   "execution_count": 10,
   "metadata": {},
   "outputs": [],
   "source": [
    "import numpy as np\n",
    "\n",
    "def vectorize_sequences(sequences, dimension=10000):\n",
    "    results = np.zeros((len(sequences), dimension))\n",
    "    for i, sequence in enumerate(sequences):\n",
    "        results[i, sequence] = 1.\n",
    "    return results\n",
    "\n",
    "x_train = vectorize_sequences(train_data)\n",
    "x_test = vectorize_sequences(test_data)"
   ]
  },
  {
   "cell_type": "code",
   "execution_count": 20,
   "metadata": {},
   "outputs": [],
   "source": [
    "def to_one_hot(labels, dimension=46):\n",
    "    results = np.zeros((len(labels), dimension))\n",
    "    for i, label in enumerate(labels):\n",
    "        results[i, label] = 1.\n",
    "    return results\n",
    "\n",
    "one_hot_train_labels = to_one_hot(train_labels)\n",
    "one_hot_test_labels = to_one_hot(test_labels)"
   ]
  },
  {
   "cell_type": "code",
   "execution_count": 12,
   "metadata": {},
   "outputs": [],
   "source": [
    "from keras import models\n",
    "from keras import layers\n",
    "\n",
    "model = models.Sequential()\n",
    "model.add(layers.Dense(64, activation='relu', input_shape=(10000,)))\n",
    "model.add(layers.Dense(64, activation='relu'))\n",
    "model.add(layers.Dense(46, activation='softmax'))"
   ]
  },
  {
   "cell_type": "code",
   "execution_count": 13,
   "metadata": {},
   "outputs": [],
   "source": [
    "model.compile(optimizer='rmsprop',\n",
    "             loss='categorical_crossentropy',\n",
    "             metrics=['accuracy'])"
   ]
  },
  {
   "cell_type": "code",
   "execution_count": 14,
   "metadata": {},
   "outputs": [],
   "source": [
    "x_val = x_train[:1000]\n",
    "partial_x_train = x_train[1000:]\n",
    "\n",
    "y_val = one_hot_train_labels[:1000]\n",
    "partial_y_train = one_hot_train_labels[1000:]"
   ]
  },
  {
   "cell_type": "code",
   "execution_count": 15,
   "metadata": {},
   "outputs": [
    {
     "name": "stdout",
     "output_type": "stream",
     "text": [
      "Train on 7982 samples, validate on 1000 samples\n",
      "Epoch 1/20\n",
      "7982/7982 [==============================] - 3s 319us/step - loss: 2.6406 - accuracy: 0.5096 - val_loss: 1.7771 - val_accuracy: 0.6380\n",
      "Epoch 2/20\n",
      "7982/7982 [==============================] - 1s 78us/step - loss: 1.4268 - accuracy: 0.7023 - val_loss: 1.3014 - val_accuracy: 0.7280\n",
      "Epoch 3/20\n",
      "7982/7982 [==============================] - 1s 97us/step - loss: 1.0418 - accuracy: 0.7786 - val_loss: 1.1258 - val_accuracy: 0.7460\n",
      "Epoch 4/20\n",
      "7982/7982 [==============================] - 1s 107us/step - loss: 0.8244 - accuracy: 0.8254 - val_loss: 1.0293 - val_accuracy: 0.7800\n",
      "Epoch 5/20\n",
      "7982/7982 [==============================] - 1s 117us/step - loss: 0.6562 - accuracy: 0.8629 - val_loss: 0.9650 - val_accuracy: 0.7900\n",
      "Epoch 6/20\n",
      "7982/7982 [==============================] - 1s 94us/step - loss: 0.5276 - accuracy: 0.8934 - val_loss: 0.9291 - val_accuracy: 0.8070\n",
      "Epoch 7/20\n",
      "7982/7982 [==============================] - 1s 87us/step - loss: 0.4284 - accuracy: 0.9134 - val_loss: 0.9039 - val_accuracy: 0.8100\n",
      "Epoch 8/20\n",
      "7982/7982 [==============================] - 1s 84us/step - loss: 0.3516 - accuracy: 0.9265 - val_loss: 0.8957 - val_accuracy: 0.8100\n",
      "Epoch 9/20\n",
      "7982/7982 [==============================] - 1s 90us/step - loss: 0.2860 - accuracy: 0.9367 - val_loss: 0.9148 - val_accuracy: 0.8110\n",
      "Epoch 10/20\n",
      "7982/7982 [==============================] - 1s 104us/step - loss: 0.2467 - accuracy: 0.9436 - val_loss: 0.9086 - val_accuracy: 0.7990\n",
      "Epoch 11/20\n",
      "7982/7982 [==============================] - 1s 89us/step - loss: 0.2120 - accuracy: 0.9489 - val_loss: 0.8989 - val_accuracy: 0.8190\n",
      "Epoch 12/20\n",
      "7982/7982 [==============================] - 1s 78us/step - loss: 0.1846 - accuracy: 0.9519 - val_loss: 0.9364 - val_accuracy: 0.8140\n",
      "Epoch 13/20\n",
      "7982/7982 [==============================] - 1s 70us/step - loss: 0.1728 - accuracy: 0.9520 - val_loss: 0.9530 - val_accuracy: 0.8260\n",
      "Epoch 14/20\n",
      "7982/7982 [==============================] - 1s 79us/step - loss: 0.1552 - accuracy: 0.9541 - val_loss: 0.9615 - val_accuracy: 0.8130\n",
      "Epoch 15/20\n",
      "7982/7982 [==============================] - 1s 76us/step - loss: 0.1417 - accuracy: 0.9563 - val_loss: 1.0446 - val_accuracy: 0.7940\n",
      "Epoch 16/20\n",
      "7982/7982 [==============================] - 1s 78us/step - loss: 0.1350 - accuracy: 0.9554 - val_loss: 0.9871 - val_accuracy: 0.8200\n",
      "Epoch 17/20\n",
      "7982/7982 [==============================] - 1s 77us/step - loss: 0.1271 - accuracy: 0.9572 - val_loss: 1.0289 - val_accuracy: 0.8060\n",
      "Epoch 18/20\n",
      "7982/7982 [==============================] - 1s 76us/step - loss: 0.1238 - accuracy: 0.9546 - val_loss: 1.0463 - val_accuracy: 0.8050\n",
      "Epoch 19/20\n",
      "7982/7982 [==============================] - 1s 75us/step - loss: 0.1166 - accuracy: 0.9567 - val_loss: 1.0464 - val_accuracy: 0.8040\n",
      "Epoch 20/20\n",
      "7982/7982 [==============================] - 1s 70us/step - loss: 0.1129 - accuracy: 0.9579 - val_loss: 1.1182 - val_accuracy: 0.7980\n"
     ]
    }
   ],
   "source": [
    "history = model.fit(partial_x_train,\n",
    "                   partial_y_train,\n",
    "                   epochs=20,\n",
    "                   batch_size=512,\n",
    "                   validation_data=(x_val, y_val))"
   ]
  },
  {
   "cell_type": "code",
   "execution_count": 18,
   "metadata": {},
   "outputs": [
    {
     "data": {
      "image/png": "[encoded data removed]",
      "text/plain": [
       "<Figure size 432x288 with 1 Axes>"
      ]
     },
     "metadata": {
      "needs_background": "light"
     },
     "output_type": "display_data"
    }
   ],
   "source": [
    "import matplotlib.pyplot as plt\n",
    "\n",
    "history_dict = history.history\n",
    "loss_values = history_dict['loss']\n",
    "val_loss_values = history_dict['val_loss']\n",
    "\n",
    "epochs = range(1, len(history_dict['accuracy']) + 1)\n",
    "\n",
    "plt.plot(epochs, loss_values, 'bo', label='Training loss')\n",
    "plt.plot(epochs, val_loss_values, 'b', label='Validation loss')\n",
    "plt.title('Training and validation loss')\n",
    "plt.xlabel('Epochs')\n",
    "plt.ylabel('Loss')\n",
    "plt.legend()\n",
    "\n",
    "plt.show()"
   ]
  },
  {
   "cell_type": "code",
   "execution_count": 19,
   "metadata": {},
   "outputs": [
    {
     "data": {
      "image/png": "[encoded data removed]",
      "text/plain": [
       "<Figure size 432x288 with 1 Axes>"
      ]
     },
     "metadata": {
      "needs_background": "light"
     },
     "output_type": "display_data"
    }
   ],
   "source": [
    "plt.clf()\n",
    "acc_values = history_dict['accuracy']\n",
    "val_acc_values = history_dict['val_accuracy']\n",
    "\n",
    "plt.plot(epochs, acc_values, 'bo', label='Training accuracy')\n",
    "plt.plot(epochs, val_acc_values, 'b', label='Validation accuracy')\n",
    "plt.title('Training and validation accuracy')\n",
    "plt.xlabel('Epochs')\n",
    "plt.ylabel('Accuracy')\n",
    "plt.legend()\n",
    "\n",
    "plt.show()"
   ]
  },
  {
   "cell_type": "code",
   "execution_count": 24,
   "metadata": {},
   "outputs": [
    {
     "name": "stdout",
     "output_type": "stream",
     "text": [
      "Train on 7982 samples, validate on 1000 samples\n",
      "Epoch 1/9\n",
      "7982/7982 [==============================] - 1s 79us/step - loss: 0.1016 - accuracy: 0.9560 - val_loss: 0.1667 - val_accuracy: 0.9440\n",
      "Epoch 2/9\n",
      "7982/7982 [==============================] - 1s 85us/step - loss: 0.0971 - accuracy: 0.9569 - val_loss: 0.1952 - val_accuracy: 0.9460\n",
      "Epoch 3/9\n",
      "7982/7982 [==============================] - 1s 82us/step - loss: 0.0956 - accuracy: 0.9594 - val_loss: 0.2136 - val_accuracy: 0.9420\n",
      "Epoch 4/9\n",
      "7982/7982 [==============================] - 1s 85us/step - loss: 0.0964 - accuracy: 0.9572 - val_loss: 0.2211 - val_accuracy: 0.9430\n",
      "Epoch 5/9\n",
      "7982/7982 [==============================] - 1s 82us/step - loss: 0.0968 - accuracy: 0.9590 - val_loss: 0.2505 - val_accuracy: 0.9400\n",
      "Epoch 6/9\n",
      "7982/7982 [==============================] - 1s 74us/step - loss: 0.0934 - accuracy: 0.9578 - val_loss: 0.2717 - val_accuracy: 0.9390\n",
      "Epoch 7/9\n",
      "7982/7982 [==============================] - 1s 88us/step - loss: 0.0928 - accuracy: 0.9589 - val_loss: 0.2986 - val_accuracy: 0.9430\n",
      "Epoch 8/9\n",
      "7982/7982 [==============================] - 1s 85us/step - loss: 0.0955 - accuracy: 0.9577 - val_loss: 0.3122 - val_accuracy: 0.9350\n",
      "Epoch 9/9\n",
      "7982/7982 [==============================] - 1s 84us/step - loss: 0.0877 - accuracy: 0.9598 - val_loss: 0.3163 - val_accuracy: 0.9410\n",
      "2246/2246 [==============================] - 0s 122us/step\n"
     ]
    }
   ],
   "source": [
    "model.fit(model.fit(x_train, one_hot_train_labels, epochs=4, batch_size=512)\n",
    "results = model.evaluate(x_test, ))"
   ]
  },
  {
   "cell_type": "code",
   "execution_count": 23,
   "metadata": {},
   "outputs": [
    {
     "data": {
      "text/plain": [
       "[1.266463365495364, 0.7880676984786987]"
      ]
     },
     "execution_count": 23,
     "metadata": {},
     "output_type": "execute_result"
    }
   ],
   "source": [
    "results"
   ]
  },
  {
   "cell_type": "code",
   "execution_count": 25,
   "metadata": {},
   "outputs": [
    {
     "data": {
      "text/plain": [
       "[1.3981258540098305, 0.7836152911186218]"
      ]
     },
     "execution_count": 25,
     "metadata": {},
     "output_type": "execute_result"
    }
   ],
   "source": [
    "results"
   ]
  },
  {
   "cell_type": "code",
   "execution_count": null,
   "metadata": {},
   "outputs": [],
   "source": []
  }
 ],
 "metadata": {
  "kernelspec": {
   "display_name": "Python 3",
   "language": "python",
   "name": "python3"
  },
  "language_info": {
   "codemirror_mode": {
    "name": "ipython",
    "version": 3
   },
   "file_extension": ".py",
   "mimetype": "text/x-python",
   "name": "python",
   "nbconvert_exporter": "python",
   "pygments_lexer": "ipython3",
   "version": "3.7.4"
  }
 },
 "nbformat": 4,
 "nbformat_minor": 2
}
